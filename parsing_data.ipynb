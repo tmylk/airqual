{
 "cells": [
  {
   "cell_type": "code",
   "execution_count": 18,
   "metadata": {
    "collapsed": true
   },
   "outputs": [],
   "source": [
    "import pandas as pd\n",
    "import numpy as np\n",
    "import math\n",
    "from sklearn import preprocessing\n",
    "%matplotlib inline"
   ]
  },
  {
   "cell_type": "code",
   "execution_count": 7,
   "metadata": {
    "collapsed": true
   },
   "outputs": [],
   "source": [
    "df = pd.read_json('walk_to_sensor.json')"
   ]
  },
  {
   "cell_type": "code",
   "execution_count": 8,
   "metadata": {
    "collapsed": false
   },
   "outputs": [
    {
     "data": {
      "text/html": [
       "<div>\n",
       "<table border=\"1\" class=\"dataframe\">\n",
       "  <thead>\n",
       "    <tr style=\"text-align: right;\">\n",
       "      <th></th>\n",
       "      <th>alt</th>\n",
       "      <th>co</th>\n",
       "      <th>lat</th>\n",
       "      <th>lon</th>\n",
       "      <th>no2</th>\n",
       "      <th>pm2_5</th>\n",
       "      <th>volts</th>\n",
       "      <th>when</th>\n",
       "    </tr>\n",
       "  </thead>\n",
       "  <tbody>\n",
       "    <tr>\n",
       "      <th>0</th>\n",
       "      <td>0</td>\n",
       "      <td>0</td>\n",
       "      <td>51.451605</td>\n",
       "      <td>-2.604315</td>\n",
       "      <td>0.02</td>\n",
       "      <td>6</td>\n",
       "      <td>3.07</td>\n",
       "      <td>2015-10-17 15:03:28</td>\n",
       "    </tr>\n",
       "    <tr>\n",
       "      <th>1</th>\n",
       "      <td>0</td>\n",
       "      <td>0</td>\n",
       "      <td>51.451581</td>\n",
       "      <td>-2.604273</td>\n",
       "      <td>0.00</td>\n",
       "      <td>28</td>\n",
       "      <td>3.06</td>\n",
       "      <td>2015-10-17 15:03:39</td>\n",
       "    </tr>\n",
       "    <tr>\n",
       "      <th>2</th>\n",
       "      <td>0</td>\n",
       "      <td>0</td>\n",
       "      <td>51.451607</td>\n",
       "      <td>-2.604294</td>\n",
       "      <td>0.00</td>\n",
       "      <td>31</td>\n",
       "      <td>3.00</td>\n",
       "      <td>2015-10-17 15:03:50</td>\n",
       "    </tr>\n",
       "    <tr>\n",
       "      <th>3</th>\n",
       "      <td>0</td>\n",
       "      <td>0</td>\n",
       "      <td>51.451615</td>\n",
       "      <td>-2.604296</td>\n",
       "      <td>0.04</td>\n",
       "      <td>34</td>\n",
       "      <td>2.98</td>\n",
       "      <td>2015-10-17 15:04:01</td>\n",
       "    </tr>\n",
       "    <tr>\n",
       "      <th>4</th>\n",
       "      <td>0</td>\n",
       "      <td>0</td>\n",
       "      <td>51.451639</td>\n",
       "      <td>-2.604254</td>\n",
       "      <td>0.03</td>\n",
       "      <td>27</td>\n",
       "      <td>3.06</td>\n",
       "      <td>2015-10-17 15:04:12</td>\n",
       "    </tr>\n",
       "  </tbody>\n",
       "</table>\n",
       "</div>"
      ],
      "text/plain": [
       "   alt  co        lat       lon   no2  pm2_5  volts                 when\n",
       "0    0   0  51.451605 -2.604315  0.02      6   3.07  2015-10-17 15:03:28\n",
       "1    0   0  51.451581 -2.604273  0.00     28   3.06  2015-10-17 15:03:39\n",
       "2    0   0  51.451607 -2.604294  0.00     31   3.00  2015-10-17 15:03:50\n",
       "3    0   0  51.451615 -2.604296  0.04     34   2.98  2015-10-17 15:04:01\n",
       "4    0   0  51.451639 -2.604254  0.03     27   3.06  2015-10-17 15:04:12"
      ]
     },
     "execution_count": 8,
     "metadata": {},
     "output_type": "execute_result"
    }
   ],
   "source": [
    "df.head()"
   ]
  },
  {
   "cell_type": "code",
   "execution_count": 9,
   "metadata": {
    "collapsed": false
   },
   "outputs": [
    {
     "data": {
      "text/plain": [
       "<matplotlib.axes._subplots.AxesSubplot at 0x7f8507a47f10>"
      ]
     },
     "execution_count": 9,
     "metadata": {},
     "output_type": "execute_result"
    },
    {
     "data": {
      "image/png": "[encoded data removed]",
      "text/plain": [
       "<matplotlib.figure.Figure at 0x7f8507aaadd0>"
      ]
     },
     "metadata": {},
     "output_type": "display_data"
    }
   ],
   "source": [
    "df[2:].pm2_5.plot()"
   ]
  },
  {
   "cell_type": "code",
   "execution_count": 55,
   "metadata": {
    "collapsed": false
   },
   "outputs": [
    {
     "data": {
      "text/plain": [
       "<matplotlib.axes._subplots.AxesSubplot at 0x7f5b49655550>"
      ]
     },
     "execution_count": 55,
     "metadata": {},
     "output_type": "execute_result"
    },
    {
     "data": {
      "image/png": "[encoded data removed]",
      "text/plain": [
       "<matplotlib.figure.Figure at 0x7f5b4966b9d0>"
      ]
     },
     "metadata": {},
     "output_type": "display_data"
    }
   ],
   "source": [
    "df[2:].no2.plot()"
   ]
  },
  {
   "cell_type": "code",
   "execution_count": 19,
   "metadata": {
    "collapsed": true
   },
   "outputs": [],
   "source": [
    "df.to_csv('sta_walk.csv')"
   ]
  },
  {
   "cell_type": "code",
   "execution_count": 20,
   "metadata": {
    "collapsed": false
   },
   "outputs": [
    {
     "data": {
      "text/plain": [
       "u'/home/lev/Dropbox/airpublic/bristol'"
      ]
     },
     "execution_count": 20,
     "metadata": {},
     "output_type": "execute_result"
    }
   ],
   "source": [
    "pwd\n"
   ]
  },
  {
   "cell_type": "code",
   "execution_count": 21,
   "metadata": {
    "collapsed": false
   },
   "outputs": [
    {
     "data": {
      "text/plain": [
       "<matplotlib.axes._subplots.AxesSubplot at 0x7f5b50775890>"
      ]
     },
     "execution_count": 21,
     "metadata": {},
     "output_type": "execute_result"
    },
    {
     "data": {
      "image/png": "[encoded data removed]",
      "text/plain": [
       "<matplotlib.figure.Figure at 0x7f5b50781b90>"
      ]
     },
     "metadata": {},
     "output_type": "display_data"
    }
   ],
   "source": [
    "df.no2.hist()"
   ]
  },
  {
   "cell_type": "code",
   "execution_count": 23,
   "metadata": {
    "collapsed": true
   },
   "outputs": [],
   "source": [
    "df_clean = df[2:100]"
   ]
  },
  {
   "cell_type": "code",
   "execution_count": null,
   "metadata": {
    "collapsed": true
   },
   "outputs": [],
   "source": [
    "df.pm2_5.s"
   ]
  },
  {
   "cell_type": "code",
   "execution_count": 28,
   "metadata": {
    "collapsed": false
   },
   "outputs": [
    {
     "name": "stderr",
     "output_type": "stream",
     "text": [
      "/home/lev/anaconda/lib/python2.7/site-packages/sklearn/utils/validation.py:399: DataConversionWarning: Data with input dtype int64 was converted to float64 by the scale function\n",
      "  warnings.warn(msg, DataConversionWarning)\n",
      "/home/lev/anaconda/lib/python2.7/site-packages/IPython/kernel/__main__.py:1: SettingWithCopyWarning: \n",
      "A value is trying to be set on a copy of a slice from a DataFrame.\n",
      "Try using .loc[row_indexer,col_indexer] = value instead\n",
      "\n",
      "See the the caveats in the documentation: http://pandas.pydata.org/pandas-docs/stable/indexing.html#indexing-view-versus-copy\n",
      "  if __name__ == '__main__':\n"
     ]
    }
   ],
   "source": [
    "df_clean['pm_2_5_scaled'] = preprocessing.scale(df_clean.pm2_5, with_mean=True, with_std=True)"
   ]
  },
  {
   "cell_type": "code",
   "execution_count": 56,
   "metadata": {
    "collapsed": false
   },
   "outputs": [],
   "source": [
    "df.pm_2_5_scaled = df.pm2_5/ (df.pm2_5.max())"
   ]
  },
  {
   "cell_type": "code",
   "execution_count": 42,
   "metadata": {
    "collapsed": false
   },
   "outputs": [
    {
     "data": {
      "text/plain": [
       "44"
      ]
     },
     "execution_count": 42,
     "metadata": {},
     "output_type": "execute_result"
    }
   ],
   "source": [
    "(df_clean.pm2_5.max())"
   ]
  },
  {
   "cell_type": "code",
   "execution_count": 43,
   "metadata": {
    "collapsed": false
   },
   "outputs": [
    {
     "data": {
      "text/plain": [
       "<matplotlib.axes._subplots.AxesSubplot at 0x7f5b498c4410>"
      ]
     },
     "execution_count": 43,
     "metadata": {},
     "output_type": "execute_result"
    },
    {
     "data": {
      "image/png": "[encoded data removed]",
      "text/plain": [
       "<matplotlib.figure.Figure at 0x7f5b49ac2cd0>"
      ]
     },
     "metadata": {},
     "output_type": "display_data"
    }
   ],
   "source": [
    "df_clean.pm_2_5_scaled.plot()"
   ]
  },
  {
   "cell_type": "code",
   "execution_count": 60,
   "metadata": {
    "collapsed": true
   },
   "outputs": [],
   "source": [
    "df.to_csv('walk_to_sensor.csv')"
   ]
  },
  {
   "cell_type": "code",
   "execution_count": 57,
   "metadata": {
    "collapsed": false
   },
   "outputs": [],
   "source": [
    "df.no2_mcg = (df.no2 * 1.9125*1000)"
   ]
  },
  {
   "cell_type": "code",
   "execution_count": 58,
   "metadata": {
    "collapsed": false
   },
   "outputs": [
    {
     "data": {
      "text/plain": [
       "<matplotlib.axes._subplots.AxesSubplot at 0x7f5b497197d0>"
      ]
     },
     "execution_count": 58,
     "metadata": {},
     "output_type": "execute_result"
    },
    {
     "data": {
      "image/png": "[encoded data removed]",
      "text/plain": [
       "<matplotlib.figure.Figure at 0x7f5b49672210>"
      ]
     },
     "metadata": {},
     "output_type": "display_data"
    }
   ],
   "source": [
    "df.plot()"
   ]
  },
  {
   "cell_type": "code",
   "execution_count": 2,
   "metadata": {
    "collapsed": true
   },
   "outputs": [],
   "source": [
    "df = pd.read_json('bus_trip.json')"
   ]
  },
  {
   "cell_type": "code",
   "execution_count": 3,
   "metadata": {
    "collapsed": false
   },
   "outputs": [
    {
     "data": {
      "text/plain": [
       "<matplotlib.axes._subplots.AxesSubplot at 0x7f8507dae110>"
      ]
     },
     "execution_count": 3,
     "metadata": {},
     "output_type": "execute_result"
    },
    {
     "data": {
      "image/png": "[encoded data removed]",
      "text/plain": [
       "<matplotlib.figure.Figure at 0x7f8507de9cd0>"
      ]
     },
     "metadata": {},
     "output_type": "display_data"
    }
   ],
   "source": [
    "df.plot()"
   ]
  },
  {
   "cell_type": "code",
   "execution_count": 5,
   "metadata": {
    "collapsed": false
   },
   "outputs": [
    {
     "data": {
      "text/plain": [
       "<matplotlib.axes._subplots.AxesSubplot at 0x7f8507ac0990>"
      ]
     },
     "execution_count": 5,
     "metadata": {},
     "output_type": "execute_result"
    },
    {
     "data": {
      "image/png": "[encoded data removed]",
      "text/plain": [
       "<matplotlib.figure.Figure at 0x7f8507d722d0>"
      ]
     },
     "metadata": {},
     "output_type": "display_data"
    }
   ],
   "source": [
    "df.pm2_5.plot()"
   ]
  },
  {
   "cell_type": "code",
   "execution_count": 6,
   "metadata": {
    "collapsed": true
   },
   "outputs": [],
   "source": [
    "df.to_csv('bus_journey.csv')"
   ]
  },
  {
   "cell_type": "code",
   "execution_count": 70,
   "metadata": {
    "collapsed": true
   },
   "outputs": [],
   "source": [
    "def average_within_radius(df, lat, lon, radius_m=5):\n",
    "    selected = pd.DataFrame()\n",
    "    for _,row in df.iterrows():\n",
    "        if distance_m(lat, lon, row) < radius_m:\n",
    "            selected = selected.append(row)            \n",
    "    return selected.mean()\n",
    "            \n",
    "        "
   ]
  },
  {
   "cell_type": "code",
   "execution_count": null,
   "metadata": {
    "collapsed": true
   },
   "outputs": [],
   "source": [
    "df.append"
   ]
  },
  {
   "cell_type": "code",
   "execution_count": 59,
   "metadata": {
    "collapsed": true
   },
   "outputs": [],
   "source": [
    "def distance_m( lat1, lon1, row):\n",
    "    return vincenty( (lat1, lon1), (row['lat'], row['lon'])).meters"
   ]
  },
  {
   "cell_type": "code",
   "execution_count": 13,
   "metadata": {
    "collapsed": false
   },
   "outputs": [
    {
     "data": {
      "text/html": [
       "<div>\n",
       "<table border=\"1\" class=\"dataframe\">\n",
       "  <thead>\n",
       "    <tr style=\"text-align: right;\">\n",
       "      <th></th>\n",
       "      <th>alt</th>\n",
       "      <th>co</th>\n",
       "      <th>lat</th>\n",
       "      <th>lon</th>\n",
       "      <th>no2</th>\n",
       "      <th>pm2_5</th>\n",
       "      <th>volts</th>\n",
       "      <th>when</th>\n",
       "    </tr>\n",
       "  </thead>\n",
       "  <tbody>\n",
       "    <tr>\n",
       "      <th>0</th>\n",
       "      <td>0</td>\n",
       "      <td>0</td>\n",
       "      <td>51.451605</td>\n",
       "      <td>-2.604315</td>\n",
       "      <td>0.02</td>\n",
       "      <td>6</td>\n",
       "      <td>3.07</td>\n",
       "      <td>2015-10-17 15:03:28</td>\n",
       "    </tr>\n",
       "    <tr>\n",
       "      <th>1</th>\n",
       "      <td>0</td>\n",
       "      <td>0</td>\n",
       "      <td>51.451581</td>\n",
       "      <td>-2.604273</td>\n",
       "      <td>0.00</td>\n",
       "      <td>28</td>\n",
       "      <td>3.06</td>\n",
       "      <td>2015-10-17 15:03:39</td>\n",
       "    </tr>\n",
       "    <tr>\n",
       "      <th>2</th>\n",
       "      <td>0</td>\n",
       "      <td>0</td>\n",
       "      <td>51.451607</td>\n",
       "      <td>-2.604294</td>\n",
       "      <td>0.00</td>\n",
       "      <td>31</td>\n",
       "      <td>3.00</td>\n",
       "      <td>2015-10-17 15:03:50</td>\n",
       "    </tr>\n",
       "    <tr>\n",
       "      <th>3</th>\n",
       "      <td>0</td>\n",
       "      <td>0</td>\n",
       "      <td>51.451615</td>\n",
       "      <td>-2.604296</td>\n",
       "      <td>0.04</td>\n",
       "      <td>34</td>\n",
       "      <td>2.98</td>\n",
       "      <td>2015-10-17 15:04:01</td>\n",
       "    </tr>\n",
       "    <tr>\n",
       "      <th>4</th>\n",
       "      <td>0</td>\n",
       "      <td>0</td>\n",
       "      <td>51.451639</td>\n",
       "      <td>-2.604254</td>\n",
       "      <td>0.03</td>\n",
       "      <td>27</td>\n",
       "      <td>3.06</td>\n",
       "      <td>2015-10-17 15:04:12</td>\n",
       "    </tr>\n",
       "  </tbody>\n",
       "</table>\n",
       "</div>"
      ],
      "text/plain": [
       "   alt  co        lat       lon   no2  pm2_5  volts                 when\n",
       "0    0   0  51.451605 -2.604315  0.02      6   3.07  2015-10-17 15:03:28\n",
       "1    0   0  51.451581 -2.604273  0.00     28   3.06  2015-10-17 15:03:39\n",
       "2    0   0  51.451607 -2.604294  0.00     31   3.00  2015-10-17 15:03:50\n",
       "3    0   0  51.451615 -2.604296  0.04     34   2.98  2015-10-17 15:04:01\n",
       "4    0   0  51.451639 -2.604254  0.03     27   3.06  2015-10-17 15:04:12"
      ]
     },
     "execution_count": 13,
     "metadata": {},
     "output_type": "execute_result"
    }
   ],
   "source": [
    "df.head()"
   ]
  },
  {
   "cell_type": "code",
   "execution_count": 17,
   "metadata": {
    "collapsed": true
   },
   "outputs": [],
   "source": [
    "def distance_km(lat1, lon1, lat2, lon2):\n",
    "    return 6367 * 2 * np.arcsin(np.sqrt(np.sin(np.radians(lat1) - math.radians(lat2)/2)**2 + math.cos(math.radians(lat2)) * np.cos(np.radians(lat1) * np.sin(np.radians(lon1) - math.radians(lon2)/2)**2)))\n"
   ]
  },
  {
   "cell_type": "code",
   "execution_count": 65,
   "metadata": {
    "collapsed": false
   },
   "outputs": [
    {
     "data": {
      "text/plain": [
       "0.062174422828134"
      ]
     },
     "execution_count": 65,
     "metadata": {},
     "output_type": "execute_result"
    }
   ],
   "source": [
    "vincenty( (51.451605 ,  -2.604315), (df.ix[0].lat, df.ix[0].lon)).meters"
   ]
  },
  {
   "cell_type": "code",
   "execution_count": 32,
   "metadata": {
    "collapsed": false
   },
   "outputs": [],
   "source": [
    "from geopy.distance import vincenty"
   ]
  },
  {
   "cell_type": "code",
   "execution_count": 36,
   "metadata": {
    "collapsed": true
   },
   "outputs": [],
   "source": [
    "import geopy"
   ]
  },
  {
   "cell_type": "code",
   "execution_count": 48,
   "metadata": {
    "collapsed": false
   },
   "outputs": [
    {
     "data": {
      "text/plain": [
       "3.938471623934494"
      ]
     },
     "execution_count": 48,
     "metadata": {},
     "output_type": "execute_result"
    }
   ],
   "source": [
    "distance_m(df.ix[0].lat, df.ix[0].lon, df.ix[1])"
   ]
  },
  {
   "cell_type": "code",
   "execution_count": 37,
   "metadata": {
    "collapsed": false
   },
   "outputs": [
    {
     "data": {
      "text/plain": [
       "<module 'geopy.point' from '/home/lev/anaconda/lib/python2.7/site-packages/geopy/point.pyc'>"
      ]
     },
     "execution_count": 37,
     "metadata": {},
     "output_type": "execute_result"
    }
   ],
   "source": [
    "geopy.point."
   ]
  },
  {
   "cell_type": "code",
   "execution_count": 71,
   "metadata": {
    "collapsed": false
   },
   "outputs": [
    {
     "data": {
      "text/plain": [
       "alt       0.000000\n",
       "co        0.000000\n",
       "lat      51.451602\n",
       "lon      -2.604294\n",
       "no2       0.015000\n",
       "pm2_5    24.750000\n",
       "volts     3.027500\n",
       "dtype: float64"
      ]
     },
     "execution_count": 71,
     "metadata": {},
     "output_type": "execute_result"
    }
   ],
   "source": [
    "average_within_radius(df, df.ix[0].lat, df.ix[0].lon)"
   ]
  },
  {
   "cell_type": "code",
   "execution_count": 75,
   "metadata": {
    "collapsed": false
   },
   "outputs": [],
   "source": [
    "df_smoothed = df.apply(lambda x: average_within_radius(df, x.lat, x.lon), axis=1)"
   ]
  },
  {
   "cell_type": "code",
   "execution_count": 76,
   "metadata": {
    "collapsed": false
   },
   "outputs": [
    {
     "data": {
      "text/plain": [
       "<matplotlib.axes._subplots.AxesSubplot at 0x7f8507698690>"
      ]
     },
     "execution_count": 76,
     "metadata": {},
     "output_type": "execute_result"
    },
    {
     "data": {
      "image/png": "[encoded data removed]",
      "text/plain": [
       "<matplotlib.figure.Figure at 0x7f8507698090>"
      ]
     },
     "metadata": {},
     "output_type": "display_data"
    }
   ],
   "source": [
    "df_smoothed.plot()"
   ]
  },
  {
   "cell_type": "code",
   "execution_count": 77,
   "metadata": {
    "collapsed": false
   },
   "outputs": [
    {
     "data": {
      "text/plain": [
       "<matplotlib.axes._subplots.AxesSubplot at 0x7f85076223d0>"
      ]
     },
     "execution_count": 77,
     "metadata": {},
     "output_type": "execute_result"
    },
    {
     "data": {
      "image/png": "[encoded data removed]",
      "text/plain": [
       "<matplotlib.figure.Figure at 0x7f85076281d0>"
      ]
     },
     "metadata": {},
     "output_type": "display_data"
    }
   ],
   "source": [
    "df.plot()"
   ]
  },
  {
   "cell_type": "code",
   "execution_count": 80,
   "metadata": {
    "collapsed": true
   },
   "outputs": [],
   "source": [
    "def smoothen(filename_in, filename_out):\n",
    "    df_in = pd.read_json(filename_in)\n",
    "    df_smoothed = df_in.apply(lambda x: average_within_radius(df_in, x.lat, x.lon), axis=1)\n",
    "    df_smoothed.to_csv(filename_out)"
   ]
  },
  {
   "cell_type": "code",
   "execution_count": 81,
   "metadata": {
    "collapsed": false
   },
   "outputs": [],
   "source": [
    "smoothen('walk_to_sensor.json','walk_to_sensor_smooth.csv')"
   ]
  },
  {
   "cell_type": "code",
   "execution_count": 85,
   "metadata": {
    "collapsed": true
   },
   "outputs": [],
   "source": [
    "import csv\n",
    "import sys\n",
    "\n",
    "f = open('walk_to_sensor_smooth.csv', 'rt')\n",
    "writer = open('all_part.js', 'wt' )\n",
    "\n",
    "reader = csv.reader(f)\n",
    "\n",
    "writer.write('var partPoints = [\\n')\n",
    "for row in reader:\n",
    "\tif row[5] != 'no2':\n",
    "\t\t#writer.write('[%s,%s,%.2f],\\n'%(row[3],row[4],(float(row[5])*100)) )\n",
    "\t\twriter.write('[%s,%s,%s],\\n'%(row[3],row[4],row[6]) )\n",
    "\n",
    "writer.write('];')\n",
    "\n",
    "f.close()\n",
    "writer.close()\n"
   ]
  },
  {
   "cell_type": "code",
   "execution_count": 86,
   "metadata": {
    "collapsed": true
   },
   "outputs": [],
   "source": [
    "bristol_sensor = (112+149)/2"
   ]
  },
  {
   "cell_type": "code",
   "execution_count": 87,
   "metadata": {
    "collapsed": true
   },
   "outputs": [],
   "source": [
    "df_sensor = pd.read_csv('walk_to_sensor_smooth.csv')"
   ]
  },
  {
   "cell_type": "code",
   "execution_count": 90,
   "metadata": {
    "collapsed": false
   },
   "outputs": [
    {
     "data": {
      "text/html": [
       "<div>\n",
       "<table border=\"1\" class=\"dataframe\">\n",
       "  <thead>\n",
       "    <tr style=\"text-align: right;\">\n",
       "      <th></th>\n",
       "      <th>Unnamed: 0</th>\n",
       "      <th>alt</th>\n",
       "      <th>co</th>\n",
       "      <th>lat</th>\n",
       "      <th>lon</th>\n",
       "      <th>no2</th>\n",
       "      <th>pm2_5</th>\n",
       "      <th>volts</th>\n",
       "    </tr>\n",
       "  </thead>\n",
       "  <tbody>\n",
       "  </tbody>\n",
       "</table>\n",
       "</div>"
      ],
      "text/plain": [
       "Empty DataFrame\n",
       "Columns: [Unnamed: 0, alt, co, lat, lon, no2, pm2_5, volts]\n",
       "Index: []"
      ]
     },
     "execution_count": 90,
     "metadata": {},
     "output_type": "execute_result"
    }
   ],
   "source": [
    "df_sensor[df_sensor.lat == 51.45 ]"
   ]
  },
  {
   "cell_type": "code",
   "execution_count": 91,
   "metadata": {
    "collapsed": true
   },
   "outputs": [],
   "source": [
    "df_sensor.no2_mcg = (df_sensor.no2 * 1.9125*1000)"
   ]
  },
  {
   "cell_type": "code",
   "execution_count": 92,
   "metadata": {
    "collapsed": false
   },
   "outputs": [
    {
     "data": {
      "text/plain": [
       "0       28.687500\n",
       "1       28.687500\n",
       "2       34.425000\n",
       "3       35.062500\n",
       "4       61.625000\n",
       "5       67.440789\n",
       "6       70.125000\n",
       "7       73.557692\n",
       "8       73.557692\n",
       "9       70.125000\n",
       "10      70.125000\n",
       "11      73.557692\n",
       "12      73.557692\n",
       "13      73.557692\n",
       "14      73.557692\n",
       "15      74.205000\n",
       "16      74.205000\n",
       "17      73.557692\n",
       "18      75.703125\n",
       "19      75.703125\n",
       "20      75.437500\n",
       "21      75.703125\n",
       "22      75.437500\n",
       "23      74.836957\n",
       "24      70.125000\n",
       "25       0.000000\n",
       "26       0.000000\n",
       "27       0.000000\n",
       "28      75.703125\n",
       "29      73.557692\n",
       "          ...    \n",
       "172    153.000000\n",
       "173    133.875000\n",
       "174    133.875000\n",
       "175    143.437500\n",
       "176    140.250000\n",
       "177    129.093750\n",
       "178    129.093750\n",
       "179     95.625000\n",
       "180     95.625000\n",
       "181    105.187500\n",
       "182    105.187500\n",
       "183     82.875000\n",
       "184     86.062500\n",
       "185     86.062500\n",
       "186    133.875000\n",
       "187     95.625000\n",
       "188     95.625000\n",
       "189     95.625000\n",
       "190     95.625000\n",
       "191     95.625000\n",
       "192     95.625000\n",
       "193     86.062500\n",
       "194    153.000000\n",
       "195     95.625000\n",
       "196     95.625000\n",
       "197     95.625000\n",
       "198     95.625000\n",
       "199    133.875000\n",
       "200     66.521739\n",
       "201     70.125000\n",
       "Name: no2, dtype: float64"
      ]
     },
     "execution_count": 92,
     "metadata": {},
     "output_type": "execute_result"
    }
   ],
   "source": [
    "df_sensor.no2_mcg"
   ]
  },
  {
   "cell_type": "code",
   "execution_count": 93,
   "metadata": {
    "collapsed": false
   },
   "outputs": [
    {
     "data": {
      "text/plain": [
       "133.87500000000003"
      ]
     },
     "execution_count": 93,
     "metadata": {},
     "output_type": "execute_result"
    }
   ],
   "source": [
    "0.07* 1.9125*1000"
   ]
  },
  {
   "cell_type": "code",
   "execution_count": 94,
   "metadata": {
    "collapsed": false
   },
   "outputs": [
    {
     "name": "stdout",
     "output_type": "stream",
     "text": [
      "130\n"
     ]
    }
   ],
   "source": [
    "print bristol_sensor"
   ]
  },
  {
   "cell_type": "code",
   "execution_count": 95,
   "metadata": {
    "collapsed": false
   },
   "outputs": [
    {
     "data": {
      "text/plain": [
       "count    202.000000\n",
       "mean      33.995685\n",
       "std       11.540929\n",
       "min       24.000000\n",
       "25%       29.333874\n",
       "50%       32.615385\n",
       "75%       35.000000\n",
       "max      160.000000\n",
       "Name: pm2_5, dtype: float64"
      ]
     },
     "execution_count": 95,
     "metadata": {},
     "output_type": "execute_result"
    }
   ],
   "source": [
    "df_sensor.pm2_5.describe()"
   ]
  },
  {
   "cell_type": "code",
   "execution_count": null,
   "metadata": {
    "collapsed": true
   },
   "outputs": [],
   "source": []
  }
 ],
 "metadata": {
  "kernelspec": {
   "display_name": "Python 2",
   "language": "python",
   "name": "python2"
  },
  "language_info": {
   "codemirror_mode": {
    "name": "ipython",
    "version": 2
   },
   "file_extension": ".py",
   "mimetype": "text/x-python",
   "name": "python",
   "nbconvert_exporter": "python",
   "pygments_lexer": "ipython2",
   "version": "2.7.10"
  }
 },
 "nbformat": 4,
 "nbformat_minor": 0
}
